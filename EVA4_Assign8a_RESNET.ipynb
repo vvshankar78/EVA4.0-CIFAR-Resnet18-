{
  "nbformat": 4,
  "nbformat_minor": 0,
  "metadata": {
    "kernelspec": {
      "name": "python3",
      "display_name": "Python 3"
    },
    "language_info": {
      "codemirror_mode": {
        "name": "ipython",
        "version": 3
      },
      "file_extension": ".py",
      "mimetype": "text/x-python",
      "name": "python",
      "nbconvert_exporter": "python",
      "pygments_lexer": "ipython3",
      "version": "3.6.6"
    },
    "colab": {
      "name": "EVA4-Assign8a-RESNET.ipynb",
      "provenance": [],
      "collapsed_sections": [],
      "include_colab_link": true
    },
    "accelerator": "GPU"
  },
  "cells": [
    {
      "cell_type": "markdown",
      "metadata": {
        "id": "view-in-github",
        "colab_type": "text"
      },
      "source": [
        "<a href=\"https://colab.research.google.com/github/vvshankar78/EVA4.0-CIFAR-Resnet18-/blob/master/EVA4_Assign8a_RESNET.ipynb\" target=\"_parent\"><img src=\"https://colab.research.google.com/assets/colab-badge.svg\" alt=\"Open In Colab\"/></a>"
      ]
    },
    {
      "cell_type": "code",
      "metadata": {
        "id": "-yVpodAMpoCi",
        "colab_type": "code",
        "outputId": "39993b32-6287-4091-e27b-9a9affd9dfc6",
        "colab": {
          "base_uri": "https://localhost:8080/",
          "height": 34
        }
      },
      "source": [
        "import torch\n",
        "import torchvision\n",
        "import torchvision.transforms as transforms\n",
        "import torch.optim as optim\n",
        "import torch.nn as nn\n",
        "import torch.nn.functional as F\n",
        "import matplotlib.pyplot as plt\n",
        "import numpy as np\n",
        "!pip install torchsummary\n",
        "from torchsummary import summary\n",
        "%matplotlib inline"
      ],
      "execution_count": 0,
      "outputs": [
        {
          "output_type": "stream",
          "text": [
            "Requirement already satisfied: torchsummary in /usr/local/lib/python3.6/dist-packages (1.5.1)\n"
          ],
          "name": "stdout"
        }
      ]
    },
    {
      "cell_type": "markdown",
      "metadata": {
        "id": "5kjt4e2TpoCk",
        "colab_type": "text"
      },
      "source": [
        "The output of torchvision datasets are PILImage images of range [0, 1].\n",
        "We transform them to Tensors of normalized range [-1, 1].\n",
        "\n"
      ]
    },
    {
      "cell_type": "code",
      "metadata": {
        "id": "D8Tjigo2poCl",
        "colab_type": "code",
        "outputId": "7be33592-0fc0-43db-a270-487acedd3a66",
        "colab": {
          "base_uri": "https://localhost:8080/",
          "height": 50
        }
      },
      "source": [
        "transform = transforms.Compose(\n",
        "    [transforms.ToTensor(),\n",
        "     transforms.Normalize((0.5, 0.5, 0.5), (0.5, 0.5, 0.5))])\n",
        "\n",
        "trainset = torchvision.datasets.CIFAR10(root='./data', train=True,\n",
        "                                        download=True, transform=transform)\n",
        "trainloader = torch.utils.data.DataLoader(trainset, batch_size=16,\n",
        "                                          shuffle=True, num_workers=2)\n",
        "\n",
        "testset = torchvision.datasets.CIFAR10(root='./data', train=False,\n",
        "                                       download=True, transform=transform)\n",
        "testloader = torch.utils.data.DataLoader(testset, batch_size=16,\n",
        "                                         shuffle=False, num_workers=2)\n",
        "\n",
        "classes = ('plane', 'car', 'bird', 'cat',\n",
        "           'deer', 'dog', 'frog', 'horse', 'ship', 'truck')"
      ],
      "execution_count": 0,
      "outputs": [
        {
          "output_type": "stream",
          "text": [
            "Files already downloaded and verified\n",
            "Files already downloaded and verified\n"
          ],
          "name": "stdout"
        }
      ]
    },
    {
      "cell_type": "markdown",
      "metadata": {
        "id": "_cj433rtpoCn",
        "colab_type": "text"
      },
      "source": [
        "Let us show some of the training images, for fun.\n",
        "\n"
      ]
    },
    {
      "cell_type": "code",
      "metadata": {
        "id": "daA7bADhpoCo",
        "colab_type": "code",
        "outputId": "120125a5-f790-4e82-dd7a-1874a0c73c18",
        "colab": {
          "base_uri": "https://localhost:8080/",
          "height": 170
        }
      },
      "source": [
        "# functions to show an image\n",
        "\n",
        "def imshow(img):\n",
        "    img = img / 2 + 0.5     # unnormalize\n",
        "    npimg = img.numpy()\n",
        "    plt.imshow(np.transpose(npimg, (1, 2, 0)))\n",
        "\n",
        "# get some random training images\n",
        "dataiter = iter(trainloader)\n",
        "images, labels = dataiter.next()\n",
        "\n",
        "# show images\n",
        "imshow(torchvision.utils.make_grid(images))\n",
        "# print labels\n",
        "print(' '.join('%5s' % classes[labels[j]] for j in range(4)))\n",
        "\n",
        "images.shape"
      ],
      "execution_count": 0,
      "outputs": [
        {
          "output_type": "stream",
          "text": [
            "truck  frog   dog   dog\n"
          ],
          "name": "stdout"
        },
        {
          "output_type": "execute_result",
          "data": {
            "text/plain": [
              "torch.Size([16, 3, 32, 32])"
            ]
          },
          "metadata": {
            "tags": []
          },
          "execution_count": 3
        },
        {
          "output_type": "display_data",
          "data": {
            "image/png": "[encoded data removed]",
            "text/plain": [
              "<Figure size 432x288 with 1 Axes>"
            ]
          },
          "metadata": {
            "tags": []
          }
        }
      ]
    },
    {
      "cell_type": "markdown",
      "metadata": {
        "id": "28OpHA_LpoCq",
        "colab_type": "text"
      },
      "source": [
        "2. Define a Convolution Neural Network\n",
        "^^^^^^^^^^^^^^^^^^^^^^^^^^^^^^^^^^^^^^\n",
        "Copy the neural network from the Neural Networks section before and modify it to\n",
        "take 3-channel images (instead of 1-channel images as it was defined).\n",
        "\n"
      ]
    },
    {
      "cell_type": "markdown",
      "metadata": {
        "id": "Q05q22jxQ3A2",
        "colab_type": "text"
      },
      "source": [
        "Depthwise Reference: https://stackoverflow.com/questions/55123161/groups-in-convolutional-neural-network-cnn\n",
        "\n"
      ]
    },
    {
      "cell_type": "code",
      "metadata": {
        "id": "Zy5uZCtc4Rds",
        "colab_type": "code",
        "outputId": "7f4d2638-cd42-4b88-f102-b63dfa6a85ce",
        "colab": {
          "base_uri": "https://localhost:8080/",
          "height": 67
        }
      },
      "source": [
        "from google.colab import drive\n",
        "drive.mount('/content/gdrive')\n",
        "my_path = \"/content/gdrive/My Drive/EVA-4\"\n",
        "import sys\n",
        "sys.path.append(my_path)\n",
        "!ls /content/gdrive/My\\ Drive/EVA-4"
      ],
      "execution_count": 0,
      "outputs": [
        {
          "output_type": "stream",
          "text": [
            "Drive already mounted at /content/gdrive; to attempt to forcibly remount, call drive.mount(\"/content/gdrive\", force_remount=True).\n",
            "add2.py        __pycache__  vs_accuracy.py   vs_net.py\t\tvs_train.py\n",
            "my_archi_2.py  resnet.py    vs_class_acc.py  vs_train-oldv1.py\n"
          ],
          "name": "stdout"
        }
      ]
    },
    {
      "cell_type": "markdown",
      "metadata": {
        "id": "Wdw2NNCUpoCu",
        "colab_type": "text"
      },
      "source": [
        "3. Define a Loss function and optimizer\n",
        "\n",
        "^^^^^^^^^^^^^^^^^^^^^^^^^^^^^^^^^^^^^^^\n",
        "Let's use a Classification Cross-Entropy loss and SGD with momentum.\n",
        "\n"
      ]
    },
    {
      "cell_type": "code",
      "metadata": {
        "id": "P5Wmg7ATvAzT",
        "colab_type": "code",
        "colab": {}
      },
      "source": [
        "import vs_net\n",
        "import vs_train\n",
        "import resnet"
      ],
      "execution_count": 0,
      "outputs": []
    },
    {
      "cell_type": "code",
      "metadata": {
        "id": "-FWzQA2aapAb",
        "colab_type": "code",
        "colab": {}
      },
      "source": [
        "#temp = resnet.ResNet18()"
      ],
      "execution_count": 0,
      "outputs": []
    },
    {
      "cell_type": "code",
      "metadata": {
        "id": "scQfX3xihL-o",
        "colab_type": "code",
        "outputId": "efcdb278-8ab3-4065-cc30-9baf92151e09",
        "colab": {
          "base_uri": "https://localhost:8080/",
          "height": 1000
        }
      },
      "source": [
        "use_cuda = torch.cuda.is_available()\n",
        "device = torch.device(\"cuda\" if use_cuda else \"cpu\")\n",
        "net = resnet.ResNet18().to(device)\n",
        "summary(net, input_size=(3, 32, 32))"
      ],
      "execution_count": 0,
      "outputs": [
        {
          "output_type": "stream",
          "text": [
            "----------------------------------------------------------------\n",
            "        Layer (type)               Output Shape         Param #\n",
            "================================================================\n",
            "            Conv2d-1           [-1, 64, 32, 32]           1,728\n",
            "       BatchNorm2d-2           [-1, 64, 32, 32]             128\n",
            "            Conv2d-3           [-1, 64, 32, 32]          36,864\n",
            "       BatchNorm2d-4           [-1, 64, 32, 32]             128\n",
            "            Conv2d-5           [-1, 64, 32, 32]          36,864\n",
            "       BatchNorm2d-6           [-1, 64, 32, 32]             128\n",
            "        BasicBlock-7           [-1, 64, 32, 32]               0\n",
            "            Conv2d-8           [-1, 64, 32, 32]          36,864\n",
            "       BatchNorm2d-9           [-1, 64, 32, 32]             128\n",
            "           Conv2d-10           [-1, 64, 32, 32]          36,864\n",
            "      BatchNorm2d-11           [-1, 64, 32, 32]             128\n",
            "       BasicBlock-12           [-1, 64, 32, 32]               0\n",
            "           Conv2d-13          [-1, 128, 16, 16]          73,728\n",
            "      BatchNorm2d-14          [-1, 128, 16, 16]             256\n",
            "           Conv2d-15          [-1, 128, 16, 16]         147,456\n",
            "      BatchNorm2d-16          [-1, 128, 16, 16]             256\n",
            "           Conv2d-17          [-1, 128, 16, 16]           8,192\n",
            "      BatchNorm2d-18          [-1, 128, 16, 16]             256\n",
            "       BasicBlock-19          [-1, 128, 16, 16]               0\n",
            "           Conv2d-20          [-1, 128, 16, 16]         147,456\n",
            "      BatchNorm2d-21          [-1, 128, 16, 16]             256\n",
            "           Conv2d-22          [-1, 128, 16, 16]         147,456\n",
            "      BatchNorm2d-23          [-1, 128, 16, 16]             256\n",
            "       BasicBlock-24          [-1, 128, 16, 16]               0\n",
            "           Conv2d-25            [-1, 256, 8, 8]         294,912\n",
            "      BatchNorm2d-26            [-1, 256, 8, 8]             512\n",
            "           Conv2d-27            [-1, 256, 8, 8]         589,824\n",
            "      BatchNorm2d-28            [-1, 256, 8, 8]             512\n",
            "           Conv2d-29            [-1, 256, 8, 8]          32,768\n",
            "      BatchNorm2d-30            [-1, 256, 8, 8]             512\n",
            "       BasicBlock-31            [-1, 256, 8, 8]               0\n",
            "           Conv2d-32            [-1, 256, 8, 8]         589,824\n",
            "      BatchNorm2d-33            [-1, 256, 8, 8]             512\n",
            "           Conv2d-34            [-1, 256, 8, 8]         589,824\n",
            "      BatchNorm2d-35            [-1, 256, 8, 8]             512\n",
            "       BasicBlock-36            [-1, 256, 8, 8]               0\n",
            "           Conv2d-37            [-1, 512, 4, 4]       1,179,648\n",
            "      BatchNorm2d-38            [-1, 512, 4, 4]           1,024\n",
            "           Conv2d-39            [-1, 512, 4, 4]       2,359,296\n",
            "      BatchNorm2d-40            [-1, 512, 4, 4]           1,024\n",
            "           Conv2d-41            [-1, 512, 4, 4]         131,072\n",
            "      BatchNorm2d-42            [-1, 512, 4, 4]           1,024\n",
            "       BasicBlock-43            [-1, 512, 4, 4]               0\n",
            "           Conv2d-44            [-1, 512, 4, 4]       2,359,296\n",
            "      BatchNorm2d-45            [-1, 512, 4, 4]           1,024\n",
            "           Conv2d-46            [-1, 512, 4, 4]       2,359,296\n",
            "      BatchNorm2d-47            [-1, 512, 4, 4]           1,024\n",
            "       BasicBlock-48            [-1, 512, 4, 4]               0\n",
            "           Linear-49                   [-1, 10]           5,130\n",
            "================================================================\n",
            "Total params: 11,173,962\n",
            "Trainable params: 11,173,962\n",
            "Non-trainable params: 0\n",
            "----------------------------------------------------------------\n",
            "Input size (MB): 0.01\n",
            "Forward/backward pass size (MB): 11.25\n",
            "Params size (MB): 42.63\n",
            "Estimated Total Size (MB): 53.89\n",
            "----------------------------------------------------------------\n"
          ],
          "name": "stdout"
        }
      ]
    },
    {
      "cell_type": "code",
      "metadata": {
        "id": "M4xBbDROpoCv",
        "colab_type": "code",
        "colab": {}
      },
      "source": [
        "from torch.optim.lr_scheduler import StepLR\n",
        "learning_rate=0.1\n",
        "criterion = nn.CrossEntropyLoss()\n",
        "optimizer = optim.SGD(net.parameters(), lr=learning_rate, momentum=0.9)\n",
        "scheduler = StepLR(optimizer, step_size=6, gamma=0.1)"
      ],
      "execution_count": 0,
      "outputs": []
    },
    {
      "cell_type": "markdown",
      "metadata": {
        "id": "O-odOrhdpoC2",
        "colab_type": "text"
      },
      "source": [
        "4. Train the network\n",
        "^^^^^^^^^^^^^^^^^^^^\n",
        "\n",
        "This is when things start to get interesting.\n",
        "We simply have to loop over our data iterator, and feed the inputs to the\n",
        "network and optimize.\n",
        "\n"
      ]
    },
    {
      "cell_type": "code",
      "metadata": {
        "id": "TBfqKUgfPrhT",
        "colab_type": "code",
        "outputId": "e2033b2f-a9e2-44af-c40c-e562a01aa88b",
        "colab": {
          "base_uri": "https://localhost:8080/",
          "height": 1000
        }
      },
      "source": [
        "for epoch in range(20):  # loop over the dataset multiple times \n",
        "    print(\"epoch:\",epoch+1,'LR:',scheduler.get_lr()) \n",
        "    vs_train.train(net,device,trainloader,optimizer,criterion,epoch)\n",
        "    scheduler.step()\n",
        "    \n",
        "print('Finished Training')"
      ],
      "execution_count": 0,
      "outputs": [
        {
          "output_type": "stream",
          "text": [
            "epoch: 1 LR: [0.1]\n",
            "[1,     1] loss: 0.005\n",
            "[1,   501] loss: 2.396\n",
            "[1,  1001] loss: 1.958\n",
            "[1,  1501] loss: 1.802\n",
            "[1,  2001] loss: 1.699\n",
            "[1,  2501] loss: 1.593\n",
            "[1,  3001] loss: 1.493\n",
            "epoch: 2 LR: [0.1]\n",
            "[2,     1] loss: 0.004\n",
            "[2,   501] loss: 1.383\n",
            "[2,  1001] loss: 1.317\n",
            "[2,  1501] loss: 1.270\n",
            "[2,  2001] loss: 1.216\n",
            "[2,  2501] loss: 1.164\n",
            "[2,  3001] loss: 1.114\n",
            "epoch: 3 LR: [0.1]\n",
            "[3,     1] loss: 0.002\n",
            "[3,   501] loss: 0.991\n",
            "[3,  1001] loss: 0.966\n",
            "[3,  1501] loss: 0.946\n",
            "[3,  2001] loss: 0.920\n",
            "[3,  2501] loss: 0.886\n",
            "[3,  3001] loss: 0.869\n",
            "epoch: 4 LR: [0.1]\n",
            "[4,     1] loss: 0.002\n",
            "[4,   501] loss: 0.729\n",
            "[4,  1001] loss: 0.719\n",
            "[4,  1501] loss: 0.723\n",
            "[4,  2001] loss: 0.714\n",
            "[4,  2501] loss: 0.688\n",
            "[4,  3001] loss: 0.690\n",
            "epoch: 5 LR: [0.1]\n",
            "[5,     1] loss: 0.000\n",
            "[5,   501] loss: 0.545\n",
            "[5,  1001] loss: 0.559\n",
            "[5,  1501] loss: 0.555\n",
            "[5,  2001] loss: 0.533\n",
            "[5,  2501] loss: 0.538\n",
            "[5,  3001] loss: 0.539\n",
            "epoch: 6 LR: [0.1]\n",
            "[6,     1] loss: 0.001\n",
            "[6,   501] loss: 0.401\n",
            "[6,  1001] loss: 0.400\n",
            "[6,  1501] loss: 0.431\n",
            "[6,  2001] loss: 0.429\n",
            "[6,  2501] loss: 0.418\n",
            "[6,  3001] loss: 0.435\n",
            "epoch: 7 LR: [0.0010000000000000002]\n",
            "[7,     1] loss: 0.001\n",
            "[7,   501] loss: 0.218\n",
            "[7,  1001] loss: 0.188\n",
            "[7,  1501] loss: 0.180\n",
            "[7,  2001] loss: 0.172\n",
            "[7,  2501] loss: 0.153\n",
            "[7,  3001] loss: 0.160\n",
            "epoch: 8 LR: [0.010000000000000002]\n",
            "[8,     1] loss: 0.001\n",
            "[8,   501] loss: 0.121\n",
            "[8,  1001] loss: 0.112\n",
            "[8,  1501] loss: 0.107\n",
            "[8,  2001] loss: 0.115\n",
            "[8,  2501] loss: 0.112\n",
            "[8,  3001] loss: 0.117\n",
            "epoch: 9 LR: [0.010000000000000002]\n",
            "[9,     1] loss: 0.000\n",
            "[9,   501] loss: 0.082\n",
            "[9,  1001] loss: 0.082\n",
            "[9,  1501] loss: 0.080\n",
            "[9,  2001] loss: 0.082\n",
            "[9,  2501] loss: 0.085\n",
            "[9,  3001] loss: 0.078\n",
            "epoch: 10 LR: [0.010000000000000002]\n",
            "[10,     1] loss: 0.000\n",
            "[10,   501] loss: 0.057\n",
            "[10,  1001] loss: 0.055\n",
            "[10,  1501] loss: 0.059\n",
            "[10,  2001] loss: 0.063\n",
            "[10,  2501] loss: 0.054\n",
            "[10,  3001] loss: 0.059\n",
            "epoch: 11 LR: [0.010000000000000002]\n",
            "[11,     1] loss: 0.000\n",
            "[11,   501] loss: 0.039\n",
            "[11,  1001] loss: 0.042\n",
            "[11,  1501] loss: 0.043\n",
            "[11,  2001] loss: 0.042\n",
            "[11,  2501] loss: 0.038\n",
            "[11,  3001] loss: 0.040\n",
            "epoch: 12 LR: [0.010000000000000002]\n",
            "[12,     1] loss: 0.000\n",
            "[12,   501] loss: 0.028\n",
            "[12,  1001] loss: 0.029\n",
            "[12,  1501] loss: 0.031\n",
            "[12,  2001] loss: 0.026\n",
            "[12,  2501] loss: 0.030\n",
            "[12,  3001] loss: 0.032\n",
            "epoch: 13 LR: [0.00010000000000000003]\n",
            "[13,     1] loss: 0.000\n",
            "[13,   501] loss: 0.023\n",
            "[13,  1001] loss: 0.019\n",
            "[13,  1501] loss: 0.019\n",
            "[13,  2001] loss: 0.020\n",
            "[13,  2501] loss: 0.020\n",
            "[13,  3001] loss: 0.020\n",
            "epoch: 14 LR: [0.0010000000000000002]\n",
            "[14,     1] loss: 0.000\n",
            "[14,   501] loss: 0.020\n",
            "[14,  1001] loss: 0.019\n",
            "[14,  1501] loss: 0.021\n",
            "[14,  2001] loss: 0.020\n",
            "[14,  2501] loss: 0.018\n",
            "[14,  3001] loss: 0.020\n",
            "epoch: 15 LR: [0.0010000000000000002]\n",
            "[15,     1] loss: 0.000\n",
            "[15,   501] loss: 0.019\n",
            "[15,  1001] loss: 0.018\n",
            "[15,  1501] loss: 0.018\n",
            "[15,  2001] loss: 0.017\n",
            "[15,  2501] loss: 0.019\n",
            "[15,  3001] loss: 0.018\n",
            "epoch: 16 LR: [0.0010000000000000002]\n",
            "[16,     1] loss: 0.000\n",
            "[16,   501] loss: 0.017\n",
            "[16,  1001] loss: 0.017\n",
            "[16,  1501] loss: 0.017\n",
            "[16,  2001] loss: 0.019\n",
            "[16,  2501] loss: 0.018\n",
            "[16,  3001] loss: 0.018\n",
            "epoch: 17 LR: [0.0010000000000000002]\n",
            "[17,     1] loss: 0.000\n",
            "[17,   501] loss: 0.018\n",
            "[17,  1001] loss: 0.016\n",
            "[17,  1501] loss: 0.015\n",
            "[17,  2001] loss: 0.016\n",
            "[17,  2501] loss: 0.018\n",
            "[17,  3001] loss: 0.015\n",
            "epoch: 18 LR: [0.0010000000000000002]\n",
            "[18,     1] loss: 0.000\n",
            "[18,   501] loss: 0.015\n",
            "[18,  1001] loss: 0.017\n",
            "[18,  1501] loss: 0.015\n",
            "[18,  2001] loss: 0.017\n",
            "[18,  2501] loss: 0.016\n",
            "[18,  3001] loss: 0.016\n",
            "epoch: 19 LR: [1.0000000000000004e-05]\n",
            "[19,     1] loss: 0.000\n",
            "[19,   501] loss: 0.016\n",
            "[19,  1001] loss: 0.016\n",
            "[19,  1501] loss: 0.017\n",
            "[19,  2001] loss: 0.016\n",
            "[19,  2501] loss: 0.016\n",
            "[19,  3001] loss: 0.018\n",
            "epoch: 20 LR: [0.00010000000000000003]\n",
            "[20,     1] loss: 0.000\n",
            "[20,   501] loss: 0.015\n",
            "[20,  1001] loss: 0.015\n",
            "[20,  1501] loss: 0.016\n",
            "[20,  2001] loss: 0.014\n",
            "[20,  2501] loss: 0.016\n",
            "[20,  3001] loss: 0.015\n",
            "Finished Training\n"
          ],
          "name": "stdout"
        }
      ]
    },
    {
      "cell_type": "markdown",
      "metadata": {
        "id": "YLrvL_fHpoC5",
        "colab_type": "text"
      },
      "source": [
        "5. Test the network on the test data\n",
        "^^^^^^^^^^^^^^^^^^^^^^^^^^^^^^^^^^^^\n",
        "\n",
        "We have trained the network for 2 passes over the training dataset.\n",
        "But we need to check if the network has learnt anything at all.\n",
        "\n",
        "We will check this by predicting the class label that the neural network\n",
        "outputs, and checking it against the ground-truth. If the prediction is\n",
        "correct, we add the sample to the list of correct predictions.\n",
        "\n",
        "Okay, first step. Let us display an image from the test set to get familiar.\n",
        "\n"
      ]
    },
    {
      "cell_type": "code",
      "metadata": {
        "id": "KEmY1vHwX1WB",
        "colab_type": "code",
        "outputId": "14c04cef-4e5d-4419-dcb5-aefaca6f3d8b",
        "colab": {
          "base_uri": "https://localhost:8080/",
          "height": 34
        }
      },
      "source": [
        "import vs_accuracy\n",
        "vs_accuracy.print_acc(testloader,net,device)"
      ],
      "execution_count": 0,
      "outputs": [
        {
          "output_type": "stream",
          "text": [
            "Accuracy of the network on the 10000 test images: 82 %\n"
          ],
          "name": "stdout"
        }
      ]
    },
    {
      "cell_type": "code",
      "metadata": {
        "id": "vN62Hx5xDK_6",
        "colab_type": "code",
        "outputId": "f7eabaff-cecf-4627-be8b-16c11dd74b10",
        "colab": {
          "base_uri": "https://localhost:8080/",
          "height": 34
        }
      },
      "source": [
        "import vs_accuracy\n",
        "vs_accuracy.print_acc(trainloader,net,device)"
      ],
      "execution_count": 0,
      "outputs": [
        {
          "output_type": "stream",
          "text": [
            "Accuracy of the network on the 10000 test images: 99 %\n"
          ],
          "name": "stdout"
        }
      ]
    },
    {
      "cell_type": "code",
      "metadata": {
        "id": "nizbsvw9poC6",
        "colab_type": "code",
        "outputId": "dcef9f4d-c855-44e1-aed2-aa0db05e3cfc",
        "colab": {
          "base_uri": "https://localhost:8080/",
          "height": 154
        }
      },
      "source": [
        "dataiter = iter(testloader)\n",
        "images, labels = dataiter.next()\n",
        "images = images.to(device)\n",
        "labels = labels.to(device)\n",
        "\n",
        "# print images\n",
        "imshow(torchvision.utils.make_grid(images).cpu())\n",
        "print('GroundTruth: ', ' '.join('%5s' % classes[labels[j]] for j in range(4)))"
      ],
      "execution_count": 0,
      "outputs": [
        {
          "output_type": "stream",
          "text": [
            "GroundTruth:    cat  ship  ship plane\n"
          ],
          "name": "stdout"
        },
        {
          "output_type": "display_data",
          "data": {
            "image/png": "[encoded data removed]",
            "text/plain": [
              "<Figure size 432x288 with 1 Axes>"
            ]
          },
          "metadata": {
            "tags": []
          }
        }
      ]
    },
    {
      "cell_type": "markdown",
      "metadata": {
        "id": "DAx4QPHVpoC8",
        "colab_type": "text"
      },
      "source": [
        "Okay, now let us see what the neural network thinks these examples above are:\n",
        "\n"
      ]
    },
    {
      "cell_type": "code",
      "metadata": {
        "id": "HVLjlssWpoC9",
        "colab_type": "code",
        "outputId": "2cc6c206-c6ea-48b5-d483-8484b0cf861b",
        "colab": {
          "base_uri": "https://localhost:8080/",
          "height": 34
        }
      },
      "source": [
        "outputs = net(images)\n",
        "_, predicted = torch.max(outputs, 1)\n",
        "print('Predicted: ', ' '.join('%5s' % classes[predicted[j]]\n",
        "                              for j in range(4)))"
      ],
      "execution_count": 0,
      "outputs": [
        {
          "output_type": "stream",
          "text": [
            "Predicted:    cat  ship  ship plane\n"
          ],
          "name": "stdout"
        }
      ]
    },
    {
      "cell_type": "markdown",
      "metadata": {
        "id": "u8OTHZEApoC_",
        "colab_type": "text"
      },
      "source": [
        "The outputs are energies for the 10 classes.\n",
        "Higher the energy for a class, the more the network\n",
        "thinks that the image is of the particular class.\n",
        "So, let's get the index of the highest energy:\n",
        "\n"
      ]
    },
    {
      "cell_type": "markdown",
      "metadata": {
        "id": "2TV0TXL1poDC",
        "colab_type": "text"
      },
      "source": [
        "The results seem pretty good.\n",
        "\n",
        "Let us look at how the network performs on the whole dataset.\n",
        "\n"
      ]
    },
    {
      "cell_type": "markdown",
      "metadata": {
        "id": "eDdwPBl8poDF",
        "colab_type": "text"
      },
      "source": [
        "That looks waaay better than chance, which is 10% accuracy (randomly picking\n",
        "a class out of 10 classes).\n",
        "Seems like the network learnt something.\n",
        "\n",
        "Hmmm, what are the classes that performed well, and the classes that did\n",
        "not perform well:\n",
        "\n"
      ]
    },
    {
      "cell_type": "code",
      "metadata": {
        "id": "yRbRrDPjah2z",
        "colab_type": "code",
        "outputId": "a01e23fe-deb7-4cc1-d618-e85059475d28",
        "colab": {
          "base_uri": "https://localhost:8080/",
          "height": 185
        }
      },
      "source": [
        "import vs_class_acc\n",
        "vs_class_acc.class_acc(testloader,net,device,classes)"
      ],
      "execution_count": 0,
      "outputs": [
        {
          "output_type": "stream",
          "text": [
            "Accuracy of plane : 85 %\n",
            "Accuracy of   car : 90 %\n",
            "Accuracy of  bird : 75 %\n",
            "Accuracy of   cat : 70 %\n",
            "Accuracy of  deer : 78 %\n",
            "Accuracy of   dog : 70 %\n",
            "Accuracy of  frog : 85 %\n",
            "Accuracy of horse : 86 %\n",
            "Accuracy of  ship : 91 %\n",
            "Accuracy of truck : 91 %\n"
          ],
          "name": "stdout"
        }
      ]
    },
    {
      "cell_type": "code",
      "metadata": {
        "id": "_WjYMZ7XWo_M",
        "colab_type": "code",
        "colab": {}
      },
      "source": [
        ""
      ],
      "execution_count": 0,
      "outputs": []
    }
  ]
}